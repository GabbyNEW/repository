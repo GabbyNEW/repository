{
 "cells": [
  {
   "cell_type": "markdown",
   "id": "1c2b92ba",
   "metadata": {
    "_cell_guid": "b1076dfc-b9ad-4769-8c92-a6c4dae69d19",
    "_uuid": "8f2839f25d086af736a60e9eeb907d3b93b6e0e5",
    "papermill": {
     "duration": 0.014264,
     "end_time": "2021-09-21T21:03:58.579674",
     "exception": false,
     "start_time": "2021-09-21T21:03:58.565410",
     "status": "completed"
    },
    "tags": []
   },
   "source": [
    "**When we are listening to music , watching movie and video or even ordering a product from some e commerce company. We all see that they offer us 'Those who bought it also got these, check this out, too'. That is why, I would like to show how can we recommend best product to our customers for increase customers satisfaction also increasing our profit ? This article will help us.  Firstly, if you want to learn more about CLTV, you can check my last story. It will be more helpful to understand what we will be doing.  Hybrid recommender was my last project however I would like to show model based recommender with machine learning. I hope you will have a great time.**"
   ]
  },
  {
   "cell_type": "markdown",
   "id": "1ccb578b",
   "metadata": {
    "papermill": {
     "duration": 0.012977,
     "end_time": "2021-09-21T21:03:58.606305",
     "exception": false,
     "start_time": "2021-09-21T21:03:58.593328",
     "status": "completed"
    },
    "tags": []
   },
   "source": [
    "[https://medium.com/@cakirtaha97/science-of-customer-cltv-d87c7182e406](http://)"
   ]
  },
  {
   "cell_type": "markdown",
   "id": "528ec21b",
   "metadata": {
    "papermill": {
     "duration": 0.013572,
     "end_time": "2021-09-21T21:03:58.633233",
     "exception": false,
     "start_time": "2021-09-21T21:03:58.619661",
     "status": "completed"
    },
    "tags": []
   },
   "source": [
    "Model based recommender's synonim is Matrix Factorization. Still there is lots of conflicts about this subject but today we won't concern about this :)\n",
    "We need our libraries for sure, so let's dive in"
   ]
  },
  {
   "cell_type": "markdown",
   "id": "3a233c1c",
   "metadata": {
    "papermill": {
     "duration": 0.013955,
     "end_time": "2021-09-21T21:03:58.661823",
     "exception": false,
     "start_time": "2021-09-21T21:03:58.647868",
     "status": "completed"
    },
    "tags": []
   },
   "source": [
    "And you can reach the dataset via:\n",
    "https://www.kaggle.com/hiraahmed/movielense20m"
   ]
  },
  {
   "cell_type": "code",
   "execution_count": null,
   "id": "f12b558c",
   "metadata": {
    "execution": {
     "iopub.execute_input": "2021-09-21T21:03:58.693401Z",
     "iopub.status.busy": "2021-09-21T21:03:58.691791Z",
     "iopub.status.idle": "2021-09-21T21:03:58.817743Z",
     "shell.execute_reply": "2021-09-21T21:03:58.817014Z",
     "shell.execute_reply.started": "2021-09-21T20:54:45.824739Z"
    },
    "papermill": {
     "duration": 0.142569,
     "end_time": "2021-09-21T21:03:58.817913",
     "exception": false,
     "start_time": "2021-09-21T21:03:58.675344",
     "status": "completed"
    },
    "tags": []
   },
   "outputs": [],
   "source": [
    "# pip install surprise\n",
    "#Unless you have it\n",
    "import pandas as pd\n",
    "from surprise import Reader, SVD, Dataset, accuracy\n",
    "from surprise.model_selection import GridSearchCV, train_test_split, cross_validate\n",
    "pd.set_option('display.max_columns', None)"
   ]
  },
  {
   "cell_type": "markdown",
   "id": "6f90a5e3",
   "metadata": {
    "papermill": {
     "duration": 0.012775,
     "end_time": "2021-09-21T21:03:58.843949",
     "exception": false,
     "start_time": "2021-09-21T21:03:58.831174",
     "status": "completed"
    },
    "tags": []
   },
   "source": [
    "*Now we will read our csv, we have 2 different dataset and we can merge with movie ID column*"
   ]
  },
  {
   "cell_type": "code",
   "execution_count": null,
   "id": "18a49b47",
   "metadata": {
    "execution": {
     "iopub.execute_input": "2021-09-21T21:03:58.876602Z",
     "iopub.status.busy": "2021-09-21T21:03:58.875882Z",
     "iopub.status.idle": "2021-09-21T21:04:36.437229Z",
     "shell.execute_reply": "2021-09-21T21:04:36.437779Z",
     "shell.execute_reply.started": "2021-09-21T20:54:45.833802Z"
    },
    "papermill": {
     "duration": 37.580898,
     "end_time": "2021-09-21T21:04:36.437965",
     "exception": false,
     "start_time": "2021-09-21T21:03:58.857067",
     "status": "completed"
    },
    "tags": []
   },
   "outputs": [],
   "source": [
    "#movie = pd.read_csv(\"movie.csv\", index_col=False)\n",
    "rating = pd.read_csv('rating-100K.csv', index_col=False)\n",
    "\n",
    "#df = movie.merge(rating, how=\"left\", on=\"movieId\")\n",
    "df = rating\n",
    "df = df.dropna(axis=0)\n",
    "#df.isnull().sum()\n",
    "\n",
    "df.head()"
   ]
  },
  {
   "cell_type": "markdown",
   "id": "b90d2f53",
   "metadata": {
    "papermill": {
     "duration": 0.016278,
     "end_time": "2021-09-21T21:04:36.473966",
     "exception": false,
     "start_time": "2021-09-21T21:04:36.457688",
     "status": "completed"
    },
    "tags": []
   },
   "source": [
    "*New DataFrame ready to use ! Let's choose the top movies inside of the dataset and see which movies will be recommended :)*"
   ]
  },
  {
   "cell_type": "code",
   "execution_count": null,
   "id": "78d73951",
   "metadata": {
    "execution": {
     "iopub.execute_input": "2021-09-21T21:04:36.507775Z",
     "iopub.status.busy": "2021-09-21T21:04:36.507038Z",
     "iopub.status.idle": "2021-09-21T21:04:40.052383Z",
     "shell.execute_reply": "2021-09-21T21:04:40.051737Z",
     "shell.execute_reply.started": "2021-09-21T20:55:21.774747Z"
    },
    "papermill": {
     "duration": 3.564779,
     "end_time": "2021-09-21T21:04:40.052523",
     "exception": false,
     "start_time": "2021-09-21T21:04:36.487744",
     "status": "completed"
    },
    "tags": []
   },
   "outputs": [],
   "source": [
    "# movie_ids = [130219, 356, 4422, 541]\n",
    "# movies = [\"The Dark Knight (2011)\",\n",
    "#           \"Cries and Whispers (Viskningar och rop) (1972)\",\n",
    "#           \"Forrest Gump (1994)\",\n",
    "#           \"Blade Runner (1982)\"]\n",
    "\n",
    "# sample_df = df[df.movieId.isin(movie_ids)]\n",
    "# sample_df.shape"
   ]
  },
  {
   "cell_type": "markdown",
   "id": "5c43a273",
   "metadata": {
    "papermill": {
     "duration": 0.013731,
     "end_time": "2021-09-21T21:04:40.080259",
     "exception": false,
     "start_time": "2021-09-21T21:04:40.066528",
     "status": "completed"
    },
    "tags": []
   },
   "source": [
    "*Pivot table is essential for recommendations. Created a pivot table with columns and indices.\n",
    "The Reader class is used to parse a file containing ratings.\n",
    "Such a file is assumed to specify only one rating per line, and each line needs to respect the following structure*"
   ]
  },
  {
   "cell_type": "code",
   "execution_count": null,
   "id": "4ac95731",
   "metadata": {
    "execution": {
     "iopub.execute_input": "2021-09-21T21:04:40.120816Z",
     "iopub.status.busy": "2021-09-21T21:04:40.120115Z",
     "iopub.status.idle": "2021-09-21T21:04:40.362074Z",
     "shell.execute_reply": "2021-09-21T21:04:40.362592Z",
     "shell.execute_reply.started": "2021-09-21T20:55:26.418255Z"
    },
    "papermill": {
     "duration": 0.268394,
     "end_time": "2021-09-21T21:04:40.362783",
     "exception": false,
     "start_time": "2021-09-21T21:04:40.094389",
     "status": "completed"
    },
    "tags": []
   },
   "outputs": [],
   "source": [
    "# user_movie_df = sample_df.pivot_table(index=[\"userId\"], columns=[\"title\"], values=\"rating\")\n",
    "# user_movie_df.head()\n",
    "\n",
    "# reader = Reader(rating_scale=(1, 5))\n",
    "# data = Dataset.load_from_df(sample_df[['userId', 'movieId', 'rating']], reader)"
   ]
  },
  {
   "cell_type": "code",
   "execution_count": null,
   "id": "9afd307a",
   "metadata": {},
   "outputs": [],
   "source": [
    "# All movies\n",
    "user_movie_df = df.pivot_table(index=[\"userId\"], columns=[\"title\"], values=\"rating\")\n",
    "user_movie_df.head()\n",
    "\n",
    "reader = Reader(rating_scale=(1, 5))\n",
    "data = Dataset.load_from_df(df[['userId', 'movieId', 'rating']], reader)"
   ]
  },
  {
   "cell_type": "markdown",
   "id": "de2f478f",
   "metadata": {
    "papermill": {
     "duration": 0.0142,
     "end_time": "2021-09-21T21:04:40.391145",
     "exception": false,
     "start_time": "2021-09-21T21:04:40.376945",
     "status": "completed"
    },
    "tags": []
   },
   "source": [
    "*Classic Machine Learning step :) Divide to train and test with size of 25% to 75%. You can use 30 to 70,it is up to you. SVD is our model for recommend a movie for different users with their ID*"
   ]
  },
  {
   "cell_type": "code",
   "execution_count": null,
   "id": "b0ddc0aa",
   "metadata": {
    "execution": {
     "iopub.execute_input": "2021-09-21T21:04:40.424034Z",
     "iopub.status.busy": "2021-09-21T21:04:40.422981Z",
     "iopub.status.idle": "2021-09-21T21:05:36.798600Z",
     "shell.execute_reply": "2021-09-21T21:05:36.798049Z",
     "shell.execute_reply.started": "2021-09-21T20:55:26.699663Z"
    },
    "papermill": {
     "duration": 56.39278,
     "end_time": "2021-09-21T21:05:36.798741",
     "exception": false,
     "start_time": "2021-09-21T21:04:40.405961",
     "status": "completed"
    },
    "tags": []
   },
   "outputs": [],
   "source": [
    "trainset, testset = train_test_split(data, test_size=.40)\n",
    "\n",
    "svd_model = SVD()\n",
    "svd_model.fit(trainset)\n",
    "\n",
    "predictions = svd_model.test(testset)\n",
    "#This validation for check our accuracy.\n",
    "cross_validate(svd_model, data, measures=['RMSE', 'MAE'], cv=5, verbose=True)"
   ]
  },
  {
   "cell_type": "markdown",
   "id": "923c758f",
   "metadata": {
    "papermill": {
     "duration": 0.014418,
     "end_time": "2021-09-21T21:05:36.827754",
     "exception": false,
     "start_time": "2021-09-21T21:05:36.813336",
     "status": "completed"
    },
    "tags": []
   },
   "source": [
    "*Actually, after we make a prediction, our project is ready but we need to tune model for increase our accuracy. That is why, let's predict now and see the difference after the tuning.*"
   ]
  },
  {
   "cell_type": "code",
   "execution_count": null,
   "id": "ff3a4ba2",
   "metadata": {
    "execution": {
     "iopub.execute_input": "2021-09-21T21:05:36.863338Z",
     "iopub.status.busy": "2021-09-21T21:05:36.862552Z",
     "iopub.status.idle": "2021-09-21T21:05:36.866612Z",
     "shell.execute_reply": "2021-09-21T21:05:36.867323Z",
     "shell.execute_reply.started": "2021-09-21T20:56:25.746214Z"
    },
    "papermill": {
     "duration": 0.024915,
     "end_time": "2021-09-21T21:05:36.867557",
     "exception": false,
     "start_time": "2021-09-21T21:05:36.842642",
     "status": "completed"
    },
    "tags": []
   },
   "outputs": [],
   "source": [
    "# Blade Runner\n",
    "# svd_model.predict(uid=1.0, iid=541, verbose=True)"
   ]
  },
  {
   "cell_type": "markdown",
   "id": "2d9e0900",
   "metadata": {
    "papermill": {
     "duration": 0.015007,
     "end_time": "2021-09-21T21:05:36.898636",
     "exception": false,
     "start_time": "2021-09-21T21:05:36.883629",
     "status": "completed"
    },
    "tags": []
   },
   "source": [
    "*For better results, we should optimize the parameters in the best way. If you want to try more parameters. Go for it !*"
   ]
  },
  {
   "cell_type": "code",
   "execution_count": null,
   "id": "70aec6ed",
   "metadata": {
    "execution": {
     "iopub.execute_input": "2021-09-21T21:05:36.972788Z",
     "iopub.status.busy": "2021-09-21T21:05:36.935909Z",
     "iopub.status.idle": "2021-09-21T21:06:19.519755Z",
     "shell.execute_reply": "2021-09-21T21:06:19.519109Z",
     "shell.execute_reply.started": "2021-09-21T20:56:25.758632Z"
    },
    "papermill": {
     "duration": 42.60585,
     "end_time": "2021-09-21T21:06:19.520039",
     "exception": false,
     "start_time": "2021-09-21T21:05:36.914189",
     "status": "completed"
    },
    "tags": []
   },
   "outputs": [],
   "source": [
    "##############################\n",
    "# Adım 3: Model Tuning (can probably skip this)\n",
    "##############################\n",
    "\n",
    "param_grid = {'n_epochs': [5, 10], 'lr_all': [0.002, 0.005]}\n",
    "\n",
    "gs = GridSearchCV(SVD, param_grid, measures=['rmse', 'mae'], cv=3, n_jobs=-1, joblib_verbose=True)\n",
    "\n",
    "gs.fit(data)\n",
    "\n",
    "gs.best_score['rmse']\n",
    "\n",
    "gs.best_params['rmse']"
   ]
  },
  {
   "cell_type": "markdown",
   "id": "1d5fc0f8",
   "metadata": {
    "papermill": {
     "duration": 0.020271,
     "end_time": "2021-09-21T21:06:19.560143",
     "exception": false,
     "start_time": "2021-09-21T21:06:19.539872",
     "status": "completed"
    },
    "tags": []
   },
   "source": [
    "*We found our best parameters and hide them in the best_params. With better accuracy, you can check the last prediction and in my suggestion, add more epochs and lr(learning rate) to param_grid.*"
   ]
  },
  {
   "cell_type": "code",
   "execution_count": null,
   "id": "2f37ae75",
   "metadata": {
    "execution": {
     "iopub.execute_input": "2021-09-21T21:06:19.655731Z",
     "iopub.status.busy": "2021-09-21T21:06:19.653109Z",
     "iopub.status.idle": "2021-09-21T21:06:23.127166Z",
     "shell.execute_reply": "2021-09-21T21:06:23.128257Z",
     "shell.execute_reply.started": "2021-09-21T20:57:08.734433Z"
    },
    "papermill": {
     "duration": 3.550156,
     "end_time": "2021-09-21T21:06:23.128560",
     "exception": false,
     "start_time": "2021-09-21T21:06:19.578404",
     "status": "completed"
    },
    "tags": []
   },
   "outputs": [],
   "source": [
    "# #Prediction\n",
    "\n",
    "# svd_model = SVD(**gs.best_params['rmse'])\n",
    "\n",
    "# data = data.build_full_trainset()\n",
    "# svd_model.fit(data)\n",
    "\n",
    "# # userid 1 - blade runner prediction\n",
    "# svd_model.predict(uid=1.0, iid=541, verbose=True)"
   ]
  },
  {
   "cell_type": "markdown",
   "id": "ab7266b4",
   "metadata": {
    "papermill": {
     "duration": 0.019261,
     "end_time": "2021-09-21T21:06:23.168829",
     "exception": false,
     "start_time": "2021-09-21T21:06:23.149568",
     "status": "completed"
    },
    "tags": []
   },
   "source": [
    "**In my opinion, Reccomendations so clear :) If you can not decide which movie do you want, check this recommender and also make Data Science practice. I hope my expressions made sense for you. Thank you for your time. See you at new project !**"
   ]
  }
 ],
 "metadata": {
  "kernelspec": {
   "display_name": "Python 3.9.11 64-bit",
   "language": "python",
   "name": "python3"
  },
  "language_info": {
   "codemirror_mode": {
    "name": "ipython",
    "version": 3
   },
   "file_extension": ".py",
   "mimetype": "text/x-python",
   "name": "python",
   "nbconvert_exporter": "python",
   "pygments_lexer": "ipython3",
   "version": "3.9.11"
  },
  "papermill": {
   "default_parameters": {},
   "duration": 156.400944,
   "end_time": "2021-09-21T21:06:25.798034",
   "environment_variables": {},
   "exception": null,
   "input_path": "__notebook__.ipynb",
   "output_path": "__notebook__.ipynb",
   "parameters": {},
   "start_time": "2021-09-21T21:03:49.397090",
   "version": "2.3.3"
  },
  "vscode": {
   "interpreter": {
    "hash": "215274a519723317b0c004266c70424e8dec47f0a71fffd544f1fc7fb471d4d5"
   }
  }
 },
 "nbformat": 4,
 "nbformat_minor": 5
}
